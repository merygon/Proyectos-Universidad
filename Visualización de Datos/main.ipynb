{
 "cells": [
  {
   "cell_type": "code",
   "execution_count": 1,
   "metadata": {},
   "outputs": [],
   "source": [
    "from dash import Dash, html, dcc, Input, Output, dash_table\n",
    "import pandas as pd\n",
    "import plotly.express as px"
   ]
  },
  {
   "cell_type": "code",
   "execution_count": 2,
   "metadata": {},
   "outputs": [
    {
     "name": "stderr",
     "output_type": "stream",
     "text": [
      "C:\\Users\\jurko\\AppData\\Local\\Temp\\ipykernel_6880\\3364123337.py:1: DtypeWarning: Columns (7,8,9,10,11) have mixed types. Specify dtype option on import or set low_memory=False.\n",
      "  df = pd.read_csv(\"data/parte_1.csv\").drop(\"Unnamed: 0\", axis=1)\n"
     ]
    }
   ],
   "source": [
    "df = pd.read_csv(\"data/parte_1.csv\").drop(\"Unnamed: 0\", axis=1)\n",
    "# df2 = pd.read_csv(\"data/parte_2.csv\").drop(\"Unnamed: 0\", axis=1)\n",
    "\n",
    "# df = pd.concat([df, df2])\n",
    "df.date = pd.to_datetime(df.date)"
   ]
  },
  {
   "cell_type": "code",
   "execution_count": 3,
   "metadata": {},
   "outputs": [],
   "source": [
    "app = Dash(__name__)\n",
    "\n",
    "app.title = \"Trabajo Final\""
   ]
  },
  {
   "cell_type": "code",
   "execution_count": 4,
   "metadata": {},
   "outputs": [],
   "source": [
    "\n",
    "tabs_styles = None\n",
    "tab_style = None\n",
    "tab_selected_style = None\n",
    "tabs_styles = {\n",
    "    'height': '44px'\n",
    "}\n",
    "tab_style = {\n",
    "    'borderBottom': '1px solid #d6d6d6',\n",
    "    'padding': '6px',\n",
    "    'fontWeight': 'bold'\n",
    "}\n",
    "tab_selected_style = {\n",
    "    'borderTop': '1px solid #d6d6d6',\n",
    "    'borderBottom': '1px solid #d6d6d6',\n",
    "    'backgroundColor': '#119DFF',\n",
    "    'color': 'white',\n",
    "    'padding': '6px'\n",
    "}"
   ]
  },
  {
   "cell_type": "code",
   "execution_count": 5,
   "metadata": {},
   "outputs": [],
   "source": [
    "grouped_dates = df.set_index(\"date\").groupby(pd.Grouper(freq='M')).sum().index\n",
    "first_month = grouped_dates[0].strftime(\"%m-%Y\")\n",
    "last_month = grouped_dates[-1].strftime(\"%m-%Y\")"
   ]
  },
  {
   "cell_type": "code",
   "execution_count": 6,
   "metadata": {},
   "outputs": [],
   "source": [
    "fig = px.bar(x = [\"tiendas\", \"productos\", \"estados\", \"meses\"], y = [df[\"store_nbr\"].nunique(), df[\"family\"].nunique(), df[\"state\"].nunique(), len(grouped_dates)], labels = {\"x\": \"\", \"y\": \"Conteo\"})"
   ]
  },
  {
   "cell_type": "code",
   "execution_count": 7,
   "metadata": {},
   "outputs": [],
   "source": [
    "top_10 = df[[\"store_nbr\",\"family\", \"sales\"]].groupby(\"family\").mean().sort_values(\"sales\", ascending= False).head(10)\n",
    "top_ten_products_graph = px.bar(top_10.reset_index(), x = \"family\", y = \"sales\")\n",
    "\n",
    "ventas_por_tiendas = df.groupby(\"store_nbr\").mean().sort_values(\"sales\", ascending = False).reset_index()\n",
    "top_ventas_por_tiendas_graph = px.bar(x = [str(x) for x in ventas_por_tiendas[\"store_nbr\"]], y = ventas_por_tiendas[\"sales\"], labels={\"x\":\"store_nbr\", \"y\":\"sales\"})\n",
    "\n",
    "top_10_promocion = df[df[\"onpromotion\"] == 1][[\"store_nbr\",\"family\", \"sales\"]].groupby(\"store_nbr\").mean().sort_values(\"sales\", ascending= False).head(10).reset_index()\n",
    "top_10_promocion_graph = px.bar(x = [str(x) for x in top_10_promocion[\"store_nbr\"]], y = top_10_promocion[\"sales\"], labels={\"x\":\"store_nbr\", \"y\":\"sales\"})"
   ]
  },
  {
   "cell_type": "code",
   "execution_count": 8,
   "metadata": {},
   "outputs": [],
   "source": [
    "@app.callback(\n",
    "    Output(component_id='1_b',component_property='figure'),\n",
    "    Input(component_id='b_dropdown',component_property='value'))\n",
    "def update_graph(selected):\n",
    "    if selected == \"top_10_products\":\n",
    "        return top_ten_products_graph\n",
    "\n",
    "    elif selected == \"ventas_por_tiendas\":\n",
    "        return top_ventas_por_tiendas_graph\n",
    "\n",
    "    elif selected == \"top_10_promocion\":\n",
    "        return top_10_promocion_graph\n",
    "\n"
   ]
  },
  {
   "cell_type": "markdown",
   "metadata": {},
   "source": [
    "### 1_C"
   ]
  },
  {
   "cell_type": "code",
   "execution_count": 9,
   "metadata": {},
   "outputs": [],
   "source": [
    "dia_semana_ventas = df.groupby(\"day_of_week\").mean()[[\"sales\"]].reset_index()\n",
    "dia_semana_ventas_graph = px.bar(dia_semana_ventas, x = \"day_of_week\", y =\"sales\")\n",
    "dia_semana_ventas_graph = px.bar(dia_semana_ventas, x = [\"Monday\", \"Tuesday\", \"Wednesday\", \"Thursday\", \"Friday\", \"Saturday\", \"Sunday\"], y =\"sales\", labels={\"x\":\"day of week\"})\n",
    "\n",
    "ventas_semana_anno = df.groupby(\"week\").mean()[[\"sales\"]].reset_index()\n",
    "ventas_semana_anno_graph = px.bar(ventas_semana_anno, x = \"week\", y = \"sales\")\n",
    "\n",
    "ventas_mes_anno = df.groupby(\"month\").mean()[[\"sales\"]].reset_index()\n",
    "ventas_mes_anno_graph = px.bar(ventas_mes_anno, x = \"month\", y = \"sales\")"
   ]
  },
  {
   "cell_type": "code",
   "execution_count": 10,
   "metadata": {},
   "outputs": [],
   "source": [
    "@app.callback(\n",
    "    Output(component_id='1_c',component_property='figure'),\n",
    "    Input(component_id='c_dropdown',component_property='value'))\n",
    "def update_graph(selected):\n",
    "    if selected == \"ventas_dia_semana\":\n",
    "        return dia_semana_ventas_graph\n",
    "    \n",
    "    elif selected == \"ventas_por_semana_anno\":\n",
    "        return ventas_semana_anno_graph\n",
    "    \n",
    "    elif selected == \"ventas_por_mes_anno\":\n",
    "        return ventas_mes_anno_graph"
   ]
  },
  {
   "cell_type": "code",
   "execution_count": 11,
   "metadata": {},
   "outputs": [],
   "source": [
    "opciones_1_b = {\"Ránking productos más vendidos\": \"top_10_products\", \n",
    "                \"Ventas por tiendas\": \"ventas_por_tiendas\",\n",
    "                \"Ránking tiendas con más ventas en promoción\": \"top_10_promocion\"}\n",
    "opciones_1_c = {\"Ventas por día de semana\": \"ventas_dia_semana\",\n",
    "                \"Volumen de ventas medio por semana del año\": \"ventas_por_semana_anno\",\n",
    "                \"Volumen de ventas medio por mes del año\": \"ventas_por_mes_anno\"}\n",
    "tab_1_content = html.Div([\n",
    "    dcc.Graph(id = \"1_a\", figure = fig, style = {\"width\": \"50%\", 'display': 'inline-block',\"height\" : \"30vh\"}),\n",
    "    html.Div([\n",
    "        html.Table([html.Thead(html.Th(\"Meses de los que se tiene datos\")),\n",
    "                    html.Tbody([html.Tr([\n",
    "                                    html.Td(\"Primer mes\"),\n",
    "                                    html.Td(first_month)]),\n",
    "                                html.Tr([\n",
    "                                    html.Td(\"Último mes\"),\n",
    "                                    html.Td(last_month)])])],\n",
    "            style= {\"margin\": \"auto\", \"position\":\"relative\", \"top\": \"50%\", \"transform\": \"translateY(-50%)\", \"border\": \"1px solid\",\"border-radius\": \"5px\", \"padding\":\"5px 10px 5px 10px\"})\n",
    "    ], style = {\"display\": \"inline-block\", \"width\": \"50%\", \"height\" : \"30vh\"}),\n",
    "    html.Div([\n",
    "        dcc.Dropdown(id='b_dropdown', ## dropdown menu\n",
    "                    options=[{'label':k,'value':v} for k, v in opciones_1_b.items()],\n",
    "                    value='top_10_products'),\n",
    "        dcc.Graph(id = \"1_b\"),\n",
    "\n",
    "    ], style  = {\"width\": \"60%\",'display': 'inline-block', \"height\" : \"40vh\"}),\n",
    "    html.Div([\n",
    "\n",
    "        dcc.Dropdown(id='c_dropdown', ## dropdown menu\n",
    "                    options=[{'label':k,'value':v} for k, v in opciones_1_c.items()],\n",
    "                    value='ventas_dia_semana'),\n",
    "        dcc.Graph(id = \"1_c\")\n",
    "    ], style  = {\"width\": \"40%\",'display': 'inline-block', \"height\" : \"40vh\"})\n",
    "])"
   ]
  },
  {
   "cell_type": "code",
   "execution_count": 12,
   "metadata": {},
   "outputs": [],
   "source": [
    "tab_1 = dcc.Tab(label = \"Visualización Global\",\n",
    "                value = \"tab_1\",\n",
    "                style = tab_style,\n",
    "                selected_style=tab_selected_style,\n",
    "                children = tab_1_content)"
   ]
  },
  {
   "cell_type": "code",
   "execution_count": 13,
   "metadata": {},
   "outputs": [],
   "source": [
    "selected_store_nbr_global = 1\n",
    "tab_2_content = html.Div(children = [\n",
    "    dcc.Dropdown(id='store_dropdown', ## dropdown menu\n",
    "                options=[{'label':store_nbr,'value':store_nbr} for store_nbr in sorted(df[\"store_nbr\"].unique())],\n",
    "                value=1), \n",
    "    html.Div(id = \"tab_2_div\")\n",
    "])"
   ]
  },
  {
   "cell_type": "code",
   "execution_count": 14,
   "metadata": {},
   "outputs": [],
   "source": [
    "@app.callback(\n",
    "    Output(component_id='tab_2_div',component_property='children'),\n",
    "    Input(component_id='store_dropdown',component_property='value'))\n",
    "def update_graph(selected):\n",
    "    store_df = df[df[\"store_nbr\"] == selected]\n",
    "\n",
    "\n",
    "    total_sales_per_year = store_df.groupby(\"year\").sum()[[\"sales\"]].reset_index()\n",
    "    products_promotion = pd.DataFrame(data = {\"Sold without promotion\": [len(store_df[store_df[\"onpromotion\"] == 0])], \"Sold on promotion\": [len(store_df[store_df[\"onpromotion\"] == 1])]})\n",
    "    products_promotion[\"Conteo\"] = \"\"\n",
    "    products_promotion = products_promotion.set_index(\"Conteo\")\n",
    "\n",
    "\n",
    "    year_graph = px.line(total_sales_per_year, x = \"year\", y = \"sales\")\n",
    "    year_graph.update_xaxes(type = \"category\")\n",
    "    \n",
    "    to_return = html.Div([\n",
    "        html.Div([\n",
    "            dcc.Graph(id = \"graph_2_a\",figure = year_graph),\n",
    "        ], style = {\"width\": \"70%\", \"display\": \"inline-block\"}),\n",
    "        html.Div([\n",
    "\n",
    "            dcc.Graph(id = \"graph_2_b\", figure = px.bar(products_promotion ,barmode='stack', text_auto= True))\n",
    "        ], style = {\"width\": \"30%\", \"display\": \"inline-block\"})\n",
    "    ], style = {\"display\":\"block\", \"width\":\"100%\", \"position\":\"absolute\", \"top\":\"50%\", \"transform\": \"translateY(-50%)\"})\n",
    "\n",
    "\n",
    "    return to_return"
   ]
  },
  {
   "cell_type": "code",
   "execution_count": 15,
   "metadata": {},
   "outputs": [],
   "source": [
    "\n",
    "tab_2 = dcc.Tab(label = \"Información por tienda\",\n",
    "                value = \"tab_2\",\n",
    "                style = tab_style,\n",
    "                selected_style=tab_selected_style,\n",
    "                children = tab_2_content)"
   ]
  },
  {
   "cell_type": "code",
   "execution_count": 16,
   "metadata": {},
   "outputs": [],
   "source": [
    "tab_3_content = html.Div([\n",
    "    dcc.Dropdown(id='state_dropdown', ## dropdown menu\n",
    "                options=[{'label':state,'value':state} for state in sorted(df[\"state\"].unique())],\n",
    "                value=\"Pichincha\"), \n",
    "    html.Div(id = \"tab_3_div\")\n",
    "])"
   ]
  },
  {
   "cell_type": "code",
   "execution_count": 17,
   "metadata": {},
   "outputs": [],
   "source": [
    "state_df = df[df[\"state\"] == \"Pichincha\"]\n",
    "state_year = state_df.groupby(\"year\").sum()[[\"transactions\"]].reset_index()\n",
    "state_year.year = pd.to_datetime(state_year.year, format = \"%Y\").dt.year"
   ]
  },
  {
   "cell_type": "code",
   "execution_count": 18,
   "metadata": {},
   "outputs": [],
   "source": [
    "@app.callback(\n",
    "    Output(component_id='tab_3_div',component_property='children'),\n",
    "    Input(component_id='state_dropdown',component_property='value'))\n",
    "def update_div(selected):\n",
    "    state_df = df[df[\"state\"] == selected]\n",
    "    state_year = state_df.groupby(\"year\").sum()[[\"transactions\"]].reset_index()\n",
    "    state_year.year = pd.to_datetime(state_year.year, format = \"%Y\").dt.year\n",
    "\n",
    "    state_sales = state_df.groupby(\"store_nbr\").sum().sort_values(\"sales\", ascending = True)[[\"sales\"]].reset_index()\n",
    "    state_sales[\"store_nbr\"] = state_sales[\"store_nbr\"].apply(str)\n",
    "\n",
    "    most_sold_product = state_df.groupby(\"family\").sum()[[\"sales\"]].sort_values(\"sales\", ascending=False).reset_index()\n",
    "\n",
    "    fig = px.line(state_year, x = \"year\", y = \"transactions\")\n",
    "    fig.update_xaxes(type='category')\n",
    "\n",
    "    to_return = html.Div([\n",
    "        dcc.Graph(figure = fig, style = {\"height\": \"40vh\"}),\n",
    "        html.Div([\n",
    "            dcc.Graph(figure = px.bar(state_sales, x = \"sales\", y = \"store_nbr\", orientation=\"h\"), config={'responsive': True}, style = {\"height\": \"100%\"}),\n",
    "        ],style = {\"grid-row\": \"1 / 4\", \"grid-column\": \"2\"}),\n",
    "        dcc.Dropdown(id = \"dropdown_3_c\", value = \"todas las tiendas\", options = [{\"label\": i, \"value\": i} for i in [\"todas las tiendas\", *sorted(state_df.store_nbr.unique())]]),\n",
    "        dcc.Graph(id = \"graph_3_c\", style = {\"height\": \"45vh\"}),\n",
    "    ], style = {\"display\":\"grid\", \"grid-template-columns\": \"60% 40%\"})\n",
    "\n",
    "    return to_return"
   ]
  },
  {
   "cell_type": "code",
   "execution_count": 19,
   "metadata": {},
   "outputs": [],
   "source": [
    "@app.callback(\n",
    "    Output(component_id='graph_3_c',component_property='figure'),\n",
    "    Input(component_id='dropdown_3_c',component_property='value'))\n",
    "def update_graph(selected):\n",
    "    \n",
    "    if selected != \"todas las tiendas\":\n",
    "        most_sold_product = state_df[state_df[\"store_nbr\"] == selected].groupby(\"family\").sum()[[\"sales\"]].sort_values(\"sales\", ascending=False).reset_index().head(10)\n",
    "    else:\n",
    "        most_sold_product = state_df.groupby(\"family\").sum()[[\"sales\"]].sort_values(\"sales\", ascending=False).reset_index().head(10)\n",
    "\n",
    "    fig = px.bar(most_sold_product, x = \"family\", y = \"sales\")\n",
    "\n",
    "    return fig"
   ]
  },
  {
   "cell_type": "code",
   "execution_count": 20,
   "metadata": {},
   "outputs": [],
   "source": [
    "tab_3 = dcc.Tab(label = \"Información por Estado\",\n",
    "                value = \"tab_3\",\n",
    "                style = tab_style,\n",
    "                selected_style=tab_selected_style,\n",
    "                children = tab_3_content)"
   ]
  },
  {
   "cell_type": "code",
   "execution_count": 21,
   "metadata": {},
   "outputs": [],
   "source": [
    "tab_4_content = html.Div()"
   ]
  },
  {
   "cell_type": "code",
   "execution_count": 22,
   "metadata": {},
   "outputs": [],
   "source": [
    "tab_4 = dcc.Tab(label = \"Información Extra\",\n",
    "                value = \"tab_4\",\n",
    "                style = tab_style,\n",
    "                selected_style=tab_selected_style,\n",
    "                children = tab_4_content)"
   ]
  },
  {
   "cell_type": "code",
   "execution_count": 23,
   "metadata": {},
   "outputs": [],
   "source": [
    "app.layout = html.Div([\n",
    "    dcc.Tabs(\n",
    "        id = \"tabs\", value = \"tab_1\",\n",
    "        children = [tab_1, tab_2, tab_3, tab_4],\n",
    "        \n",
    "    ),\n",
    "], style = {\"font-family\": \"arial\"})"
   ]
  },
  {
   "cell_type": "code",
   "execution_count": 24,
   "metadata": {},
   "outputs": [
    {
     "name": "stdout",
     "output_type": "stream",
     "text": [
      "Dash app running on http://127.0.0.1:8050/\n"
     ]
    }
   ],
   "source": [
    "app.run_server(jupyter_mode=\"external\")"
   ]
  }
 ],
 "metadata": {
  "kernelspec": {
   "display_name": "Python 3",
   "language": "python",
   "name": "python3"
  },
  "language_info": {
   "codemirror_mode": {
    "name": "ipython",
    "version": 3
   },
   "file_extension": ".py",
   "mimetype": "text/x-python",
   "name": "python",
   "nbconvert_exporter": "python",
   "pygments_lexer": "ipython3",
   "version": "3.10.8"
  }
 },
 "nbformat": 4,
 "nbformat_minor": 2
}
